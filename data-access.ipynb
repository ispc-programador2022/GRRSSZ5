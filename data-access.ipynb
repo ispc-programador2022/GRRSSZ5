{
 "cells": [
  {
   "cell_type": "code",
   "execution_count": 8,
   "metadata": {},
   "outputs": [
    {
     "name": "stdout",
     "output_type": "stream",
     "text": [
      "       top         tittles    twitts        date      time\n",
      "0      1.0      Inglaterra  131000.0  2022-11-21  14:10:56\n",
      "1      2.0         Maguire   71700.0  2022-11-21  14:10:56\n",
      "2      3.0      Bellingham   85000.0  2022-11-21  14:10:56\n",
      "3      4.0         Ecuador  773000.0  2022-11-21  14:10:56\n",
      "4      5.0         Juliana  101000.0  2022-11-21  14:10:56\n",
      "...    ...             ...       ...         ...       ...\n",
      "3235  26.0           Prode    5822.0  2022-11-21  15:27:07\n",
      "3236  27.0  lucila al 9009   13000.0  2022-11-21  15:27:07\n",
      "3237  28.0  #alabarbarossa       NaN  2022-11-21  15:27:07\n",
      "3238  29.0         Queiroz   10200.0  2022-11-21  15:27:07\n",
      "3239  30.0         Senegal  116000.0  2022-11-21  15:27:07\n",
      "\n",
      "[3240 rows x 5 columns]\n"
     ]
    }
   ],
   "source": [
    "import models\n",
    "import pandas as pd\n",
    "\n",
    "db=models.tt_twitter()\n",
    "\n",
    "database=pd.read_sql('''SELECT * FROM tt_twitter''', db.con)\n",
    "\n",
    "print (database)"
   ]
  },
  {
   "cell_type": "markdown",
   "metadata": {},
   "source": [
    "Podemos observar que se realizó un scrapping durante una hora sobre los trending toppics de twitter para analizar el crecimiento de los tops, podemos utilizar 2 trendings como ejémplos para analizar la dependencia del top."
   ]
  },
  {
   "cell_type": "code",
   "execution_count": 12,
   "metadata": {},
   "outputs": [
    {
     "data": {
      "image/png": "[encoded data removed]",
      "text/plain": [
       "<Figure size 432x288 with 1 Axes>"
      ]
     },
     "metadata": {
      "needs_background": "light"
     },
     "output_type": "display_data"
    },
    {
     "name": "stdout",
     "output_type": "stream",
     "text": [
      "Tops del trending toppic Inglaterra:  [(1.0,), (1.0,), (1.0,), (1.0,), (1.0,), (1.0,), (1.0,), (1.0,), (1.0,), (1.0,), (1.0,), (1.0,), (1.0,), (1.0,), (1.0,), (1.0,), (1.0,), (1.0,), (1.0,), (1.0,), (1.0,), (1.0,), (1.0,), (1.0,), (1.0,), (1.0,), (1.0,), (1.0,), (1.0,), (1.0,), (1.0,), (1.0,), (1.0,), (1.0,), (1.0,), (1.0,), (1.0,), (1.0,), (1.0,), (1.0,), (1.0,), (1.0,), (1.0,), (1.0,), (1.0,), (1.0,), (1.0,), (1.0,), (1.0,), (1.0,), (1.0,), (1.0,), (1.0,), (1.0,), (1.0,), (1.0,), (1.0,), (1.0,), (1.0,), (1.0,), (1.0,), (1.0,), (1.0,), (1.0,), (1.0,), (1.0,), (1.0,), (1.0,), (1.0,), (1.0,), (1.0,), (1.0,), (1.0,), (1.0,), (1.0,), (1.0,), (1.0,), (1.0,), (1.0,), (1.0,), (1.0,), (1.0,), (1.0,), (1.0,), (1.0,), (1.0,), (1.0,), (1.0,), (1.0,), (1.0,), (1.0,), (1.0,), (1.0,), (1.0,), (1.0,), (1.0,), (1.0,), (1.0,), (1.0,), (1.0,), (1.0,), (1.0,), (1.0,), (1.0,), (1.0,), (1.0,), (1.0,), (1.0,), (1.0,), (1.0,), (1.0,), (1.0,), (1.0,), (1.0,), (1.0,), (1.0,), (1.0,), (1.0,), (1.0,), (1.0,), (1.0,)]\n",
      "twitts del trending toppic Inglaterra:  [131000.0, 131000.0, 132000.0, 132000.0, 132000.0, 133000.0, 133000.0, 134000.0, 134000.0, 134000.0, 135000.0, 136000.0, 136000.0, 136000.0, 137000.0, 137000.0, 137000.0, 138000.0, 138000.0, 139000.0, 139000.0, 139000.0, 140000.0, 140000.0, 141000.0, 141000.0, 141000.0, 141000.0, 141000.0, 142000.0, 142000.0, 142000.0, 143000.0, 144000.0, 146000.0, 148000.0, 148000.0, 149000.0, 150000.0, 151000.0, 152000.0, 153000.0, 154000.0, 154000.0, 155000.0, 156000.0, 159000.0, 159000.0, 162000.0, 164000.0, 164000.0, 166000.0, 167000.0, 168000.0, 168000.0, 169000.0, 170000.0, 170000.0, 170000.0, 171000.0, 172000.0, 173000.0, 173000.0, 174000.0, 175000.0, 175000.0, 175000.0, 176000.0, 176000.0, 176000.0, 178000.0, 178000.0, 179000.0, 182000.0, 182000.0, 182000.0, 184000.0, 185000.0, 185000.0, 188000.0, 189000.0, 188000.0, 191000.0, 191000.0, 192000.0, 191000.0, 191000.0, 194000.0, 195000.0, 196000.0, 200000.0, 200000.0, 201000.0, 201000.0, 203000.0, 205000.0, 205000.0, 206000.0, 207000.0, 207000.0, 207000.0, 208000.0, 208000.0, 210000.0, 210000.0, 210000.0, 211000.0, 212000.0, 212000.0, 212000.0, 213000.0, 213000.0, 214000.0, 214000.0, 214000.0, 215000.0, 216000.0, 216000.0, 216000.0, 216000.0, 217000.0]\n",
      "tops del trendig toppic Ecuador:  [(4.0,), (4.0,), (4.0,), (4.0,), (4.0,), (4.0,), (4.0,), (4.0,), (4.0,), (4.0,), (4.0,), (4.0,), (4.0,), (4.0,), (4.0,), (4.0,), (4.0,), (4.0,), (4.0,), (4.0,), (4.0,), (4.0,), (4.0,), (4.0,), (4.0,), (4.0,), (4.0,), (4.0,), (4.0,), (4.0,), (4.0,), (4.0,), (4.0,), (4.0,), (4.0,), (5.0,), (4.0,), (5.0,), (4.0,), (5.0,), (5.0,), (4.0,), (5.0,), (5.0,), (5.0,), (4.0,), (4.0,), (4.0,), (4.0,), (4.0,), (4.0,), (4.0,), (5.0,), (4.0,), (5.0,), (5.0,), (5.0,), (5.0,), (5.0,), (5.0,), (5.0,), (5.0,), (5.0,), (5.0,), (5.0,), (5.0,), (4.0,), (5.0,), (4.0,), (4.0,), (4.0,), (4.0,), (4.0,), (4.0,), (4.0,), (5.0,), (4.0,), (4.0,), (4.0,), (4.0,), (4.0,), (4.0,), (4.0,), (4.0,), (4.0,), (4.0,), (4.0,), (4.0,), (4.0,), (4.0,), (4.0,), (4.0,), (4.0,), (4.0,), (4.0,), (4.0,), (4.0,), (4.0,), (4.0,), (4.0,), (4.0,), (4.0,), (4.0,), (4.0,), (4.0,), (4.0,), (4.0,), (4.0,), (4.0,), (4.0,), (4.0,), (4.0,), (4.0,), (6.0,), (4.0,), (5.0,), (4.0,), (6.0,), (6.0,), (6.0,)]\n",
      "twitts del trending toppic Ecuador:  [773000.0, 773000.0, 773000.0, 773000.0, 773000.0, 773000.0, 773000.0, 774000.0, 774000.0, 774000.0, 774000.0, 774000.0, 774000.0, 774000.0, 774000.0, 774000.0, 774000.0, 774000.0, 775000.0, 775000.0, 775000.0, 775000.0, 775000.0, 775000.0, 775000.0, 775000.0, 775000.0, 775000.0, 775000.0, 775000.0, 775000.0, 776000.0, 776000.0, 776000.0, 776000.0, 776000.0, 776000.0, 776000.0, 776000.0, 776000.0, 776000.0, 776000.0, 777000.0, 777000.0, 777000.0, 777000.0, 777000.0, 777000.0, 777000.0, 777000.0, 777000.0, 777000.0, 777000.0, 777000.0, 777000.0, 778000.0, 778000.0, 743000.0, 743000.0, 778000.0, 778000.0, 778000.0, 778000.0, 778000.0, 778000.0, 779000.0, 779000.0, 779000.0, 779000.0, 779000.0, 779000.0, 779000.0, 779000.0, 701000.0, 701000.0, 701000.0, 701000.0, 701000.0, 701000.0, 701000.0, 702000.0, 702000.0, 702000.0, 702000.0, 702000.0, 702000.0, 702000.0, 702000.0, 702000.0, 702000.0, 702000.0, 702000.0, 702000.0, 703000.0, 703000.0, 703000.0, 703000.0, 703000.0, 703000.0, 703000.0, 703000.0, 703000.0, 703000.0, 704000.0, 704000.0, 704000.0, 704000.0, 704000.0, 704000.0, 704000.0, 704000.0, 704000.0, 704000.0, 705000.0, 705000.0, 705000.0, 705000.0, 705000.0, 705000.0, 705000.0]\n"
     ]
    }
   ],
   "source": [
    "import matplotlib.pyplot as plt\n",
    "from models import tt_twitter\n",
    "import numpy as np\n",
    "\n",
    "db= tt_twitter()\n",
    "\n",
    "\n",
    "Inglaterra=db.where_con(\"\"\"SELECT twitts FROM tt_twitter WHERE tittles=\"Inglaterra\";\"\"\")\n",
    "Ecuador=db.where_con(\"\"\"SELECT twitts FROM tt_twitter WHERE tittles=\"Ecuador\";\"\"\")\n",
    "\n",
    "cv = lambda x: np. std (x, ddof = 1 ) / np. mean (x) * 100 \n",
    "\n",
    "x = cv(Inglaterra)\n",
    "y = cv(Ecuador)\n",
    "\n",
    "tittles=[\"Inglaterra\",\"Ecuador\"]\n",
    "\n",
    "fig, ax = plt.subplots(1, sharey = True)\n",
    "\n",
    "ax.bar(tittles,[x,y])\n",
    "plt.show()\n",
    "\n",
    "print (\"Tops del trending toppic Inglaterra: \",db.read_where(\"\"\"SELECT top FROM tt_twitter WHERE tittles = \"Inglaterra\";\"\"\"))\n",
    "print (\"twitts del trending toppic Inglaterra: \",Inglaterra)\n",
    "\n",
    "print (\"tops del trendig toppic Ecuador: \",db.read_where(\"\"\"SELECT top FROM tt_twitter WHERE tittles = \"Ecuador\";\"\"\"))\n",
    "print (\"twitts del trending toppic Ecuador: \", Ecuador)\n"
   ]
  },
  {
   "cell_type": "markdown",
   "metadata": {},
   "source": [
    "Podemos observar que el trending no depende de la cantidad de twitts en el momento sino del coeficiente de variación que determina la velocidad que aumenta la cantidad de twitts."
   ]
  }
 ],
 "metadata": {
  "kernelspec": {
   "display_name": "Python 3.10.5 64-bit",
   "language": "python",
   "name": "python3"
  },
  "language_info": {
   "codemirror_mode": {
    "name": "ipython",
    "version": 3
   },
   "file_extension": ".py",
   "mimetype": "text/x-python",
   "name": "python",
   "nbconvert_exporter": "python",
   "pygments_lexer": "ipython3",
   "version": "3.10.5"
  },
  "orig_nbformat": 4,
  "vscode": {
   "interpreter": {
    "hash": "0b68efdc46170d6c09df60c6e5c3ac1fd6e4d81b7dc57d0973e266a35e3256e4"
   }
  }
 },
 "nbformat": 4,
 "nbformat_minor": 2
}
