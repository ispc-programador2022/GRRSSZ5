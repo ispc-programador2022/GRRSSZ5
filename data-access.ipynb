{
 "cells": [
  {
   "cell_type": "code",
   "execution_count": 6,
   "metadata": {},
   "outputs": [
    {
     "name": "stdout",
     "output_type": "stream",
     "text": [
      "     top                     tittles    twitts        date      time\n",
      "0      1                       Messi       NaN  2022-11-16  22:00:03\n",
      "1      2                       Foyth   23100.0  2022-11-16  22:00:03\n",
      "2      3  #TimsTwitterListeningParty  101000.0  2022-11-16  22:00:03\n",
      "3      4                  #NinoNoqui   62000.0  2022-11-16  22:00:03\n",
      "4      5                #CFKGolpista    4913.0  2022-11-16  22:00:03\n",
      "..   ...                         ...       ...         ...       ...\n",
      "316   26                       Acuña   11300.0  2022-11-16  22:48:46\n",
      "317   27                 DT de River    1721.0  2022-11-16  22:48:46\n",
      "318   28                    Traidora    3669.0  2022-11-16  22:48:46\n",
      "319   29                Constitución   69300.0  2022-11-16  22:48:46\n",
      "320   30           #AFueraMalassezia       NaN  2022-11-16  22:48:46\n",
      "\n",
      "[321 rows x 5 columns]\n"
     ]
    }
   ],
   "source": [
    "import models\n",
    "import pandas as pd\n",
    "\n",
    "db=models.tt_twitter()\n",
    "\n",
    "database=pd.read_sql('''SELECT * FROM tt_twitter''', db.con)\n",
    "\n",
    "print (database)"
   ]
  },
  {
   "cell_type": "markdown",
   "metadata": {},
   "source": [
    "Podemos observar que se realizó un scrapping durante una hora sobre los trending toppics de twitter para analizar el crecimiento de los tops, podemos utilizar 2 trendings como ejémplos para analizar la dependencia del top."
   ]
  },
  {
   "cell_type": "code",
   "execution_count": 3,
   "metadata": {},
   "outputs": [
    {
     "name": "stdout",
     "output_type": "stream",
     "text": [
      "[281000, 279000, 279000, 280000, 280000, 281000, 281000, 282000, 282000]\n"
     ]
    },
    {
     "data": {
      "image/png": "[encoded data removed]",
      "text/plain": [
       "<Figure size 432x288 with 1 Axes>"
      ]
     },
     "metadata": {
      "needs_background": "light"
     },
     "output_type": "display_data"
    },
    {
     "name": "stdout",
     "output_type": "stream",
     "text": [
      "Tops del trending toppic argentina:  [(11,), (27,), (28,), (28,), (30,), (30,), (30,), (30,), (30,)]\n",
      "twitts del trending toppic argentina:  [281000, 279000, 279000, 280000, 280000, 281000, 281000, 282000, 282000]\n",
      "tops del trendig toppic biza:  [(9,), (8,), (8,), (9,), (9,), (9,), (9,), (9,), (9,)]\n",
      "twitts del trending toppic argentina:  [13300, 13600, 13900, 14100, 14400, 14700, 14900, 15300, 15500]\n"
     ]
    }
   ],
   "source": [
    "import matplotlib.pyplot as plt\n",
    "import statistics\n",
    "from models import tt_twitter\n",
    "import numpy as np\n",
    "\n",
    "db= tt_twitter()\n",
    "\n",
    "\n",
    "argentina=db.where_con(\"\"\"SELECT twitts FROM tt_twitter WHERE tittles = \"Argentina\";\"\"\")\n",
    "biza=db.where_con(\"\"\"SELECT twitts FROM tt_twitter WHERE tittles = \"Biza\";\"\"\")\n",
    "\n",
    "print (argentina)\n",
    "\n",
    "cv = lambda x: np. std (x, ddof = 1 ) / np. mean (x) * 100 \n",
    "\n",
    "x = cv(argentina)\n",
    "y = cv(biza)\n",
    "\n",
    "tittles=[\"argentina\",\"biza\"]\n",
    "\n",
    "fig, ax = plt.subplots(1, sharey = True)\n",
    "\n",
    "ax.bar(tittles,[x,y])\n",
    "plt.show()\n",
    "\n",
    "print (\"Tops del trending toppic argentina: \",db.read_where(\"\"\"SELECT top FROM tt_twitter WHERE tittles = \"Argentina\";\"\"\"))\n",
    "print (\"twitts del trending toppic argentina: \",argentina)\n",
    "\n",
    "print (\"tops del trendig toppic biza: \",db.read_where(\"\"\"SELECT top FROM tt_twitter WHERE tittles = \"Biza\";\"\"\"))\n",
    "print (\"twitts del trending toppic argentina: \", biza)\n"
   ]
  },
  {
   "cell_type": "markdown",
   "metadata": {},
   "source": [
    "Podemos observar que el trending no depende de la cantidad de twitts en el momento sino del coeficiente de variación que determina la velocidad que aumenta la cantidad de twitts."
   ]
  }
 ],
 "metadata": {
  "kernelspec": {
   "display_name": "Python 3.10.5 64-bit",
   "language": "python",
   "name": "python3"
  },
  "language_info": {
   "codemirror_mode": {
    "name": "ipython",
    "version": 3
   },
   "file_extension": ".py",
   "mimetype": "text/x-python",
   "name": "python",
   "nbconvert_exporter": "python",
   "pygments_lexer": "ipython3",
   "version": "3.10.5"
  },
  "orig_nbformat": 4,
  "vscode": {
   "interpreter": {
    "hash": "0b68efdc46170d6c09df60c6e5c3ac1fd6e4d81b7dc57d0973e266a35e3256e4"
   }
  }
 },
 "nbformat": 4,
 "nbformat_minor": 2
}
